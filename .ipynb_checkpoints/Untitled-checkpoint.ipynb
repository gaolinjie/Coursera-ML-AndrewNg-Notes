{
 "cells": [
  {
   "cell_type": "code",
   "execution_count": 4,
   "metadata": {},
   "outputs": [],
   "source": [
    "import os\n",
    "def rm_space():\n",
    "    for root, dirs, files in os.walk(\".\", topdown=False):\n",
    "        for fn in files:\n",
    "            if fn.find(\" \") > 0:\n",
    "                n  =  fn.replace(\" \", \"\")\n",
    "                fn = os.path.join(root, fn)\n",
    "                n = os.path.join(root, n)\n",
    "                os.rename(fn, n)\n",
    "        for d in dirs: # remove space in directory names\n",
    "            if \" \" in d:\n",
    "                nd = d.replace(\" \", \"\")\n",
    "                d = os.path.join(root, d)\n",
    "                nd = os.path.join(root, nd)\n",
    "                os.rename(d, nd)"
   ]
  },
  {
   "cell_type": "code",
   "execution_count": 5,
   "metadata": {},
   "outputs": [],
   "source": [
    "rm_space()"
   ]
  },
  {
   "cell_type": "code",
   "execution_count": null,
   "metadata": {},
   "outputs": [],
   "source": []
  }
 ],
 "metadata": {
  "kernelspec": {
   "display_name": "Python 3",
   "language": "python",
   "name": "python3"
  },
  "language_info": {
   "codemirror_mode": {
    "name": "ipython",
    "version": 3
   },
   "file_extension": ".py",
   "mimetype": "text/x-python",
   "name": "python",
   "nbconvert_exporter": "python",
   "pygments_lexer": "ipython3",
   "version": "3.6.5"
  }
 },
 "nbformat": 4,
 "nbformat_minor": 2
}
